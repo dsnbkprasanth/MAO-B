{
  "nbformat": 4,
  "nbformat_minor": 0,
  "metadata": {
    "colab": {
      "provenance": [],
      "gpuType": "T4",
      "include_colab_link": true
    },
    "kernelspec": {
      "name": "python3",
      "display_name": "Python 3"
    },
    "language_info": {
      "name": "python"
    },
    "accelerator": "GPU"
  },
  "cells": [
    {
      "cell_type": "markdown",
      "metadata": {
        "id": "view-in-github",
        "colab_type": "text"
      },
      "source": [
        "<a href=\"https://colab.research.google.com/github/dsnbkprasanth/MAO-B/blob/main/Basic_of_DFT_calculations.ipynb\" target=\"_parent\"><img src=\"https://colab.research.google.com/assets/colab-badge.svg\" alt=\"Open In Colab\"/></a>"
      ]
    },
    {
      "cell_type": "markdown",
      "source": [
        "My name is **Dr. Ashfaq Ahmad**, working in the field of structure biology and bioinformatics. The DFT notebook is designed for teaching and research purposes. If you want to use this pipeline for commercial purpose, please contact. Detailed video tutorial of this notebook can be found on [Bioinformatic Insights](https://youtu.be/qGqXS4aWgAg)."
      ],
      "metadata": {
        "id": "OC6tIDXG4ATL"
      }
    },
    {
      "cell_type": "markdown",
      "source": [
        "**Announcement**\n",
        "\n",
        "If you need assistance in developing a pipeline for your research protocol in a paid capacity, feel free to reach out from the channel page or github. I’d be happy to help!"
      ],
      "metadata": {
        "id": "Qpowpmbw5wFb"
      }
    },
    {
      "cell_type": "code",
      "execution_count": 2,
      "metadata": {
        "cellView": "form",
        "id": "SassFozJfjAe",
        "outputId": "5c304212-a856-4fe8-8ef6-c07773a9d2bd",
        "colab": {
          "base_uri": "https://localhost:8080/"
        }
      },
      "outputs": [
        {
          "output_type": "stream",
          "name": "stdout",
          "text": [
            "Collecting pyscf\n",
            "  Downloading pyscf-2.9.0-py3-none-manylinux_2_17_x86_64.manylinux2014_x86_64.whl.metadata (6.4 kB)\n",
            "Collecting ase\n",
            "  Downloading ase-3.25.0-py3-none-any.whl.metadata (4.2 kB)\n",
            "Requirement already satisfied: matplotlib in /usr/local/lib/python3.11/dist-packages (3.10.0)\n",
            "Requirement already satisfied: numpy in /usr/local/lib/python3.11/dist-packages (2.0.2)\n",
            "Requirement already satisfied: ipywidgets in /usr/local/lib/python3.11/dist-packages (7.7.1)\n",
            "Collecting pubchempy\n",
            "  Downloading PubChemPy-1.0.4.tar.gz (29 kB)\n",
            "  Preparing metadata (setup.py) ... \u001b[?25l\u001b[?25hdone\n",
            "Collecting rdkit\n",
            "  Downloading rdkit-2025.3.3-cp311-cp311-manylinux_2_28_x86_64.whl.metadata (4.0 kB)\n",
            "Collecting reportlab\n",
            "  Downloading reportlab-4.4.2-py3-none-any.whl.metadata (1.8 kB)\n",
            "Requirement already satisfied: scipy>=1.6.0 in /usr/local/lib/python3.11/dist-packages (from pyscf) (1.16.0)\n",
            "Requirement already satisfied: h5py>=2.7 in /usr/local/lib/python3.11/dist-packages (from pyscf) (3.14.0)\n",
            "Requirement already satisfied: setuptools in /usr/local/lib/python3.11/dist-packages (from pyscf) (75.2.0)\n",
            "Requirement already satisfied: contourpy>=1.0.1 in /usr/local/lib/python3.11/dist-packages (from matplotlib) (1.3.2)\n",
            "Requirement already satisfied: cycler>=0.10 in /usr/local/lib/python3.11/dist-packages (from matplotlib) (0.12.1)\n",
            "Requirement already satisfied: fonttools>=4.22.0 in /usr/local/lib/python3.11/dist-packages (from matplotlib) (4.59.0)\n",
            "Requirement already satisfied: kiwisolver>=1.3.1 in /usr/local/lib/python3.11/dist-packages (from matplotlib) (1.4.8)\n",
            "Requirement already satisfied: packaging>=20.0 in /usr/local/lib/python3.11/dist-packages (from matplotlib) (25.0)\n",
            "Requirement already satisfied: pillow>=8 in /usr/local/lib/python3.11/dist-packages (from matplotlib) (11.3.0)\n",
            "Requirement already satisfied: pyparsing>=2.3.1 in /usr/local/lib/python3.11/dist-packages (from matplotlib) (3.2.3)\n",
            "Requirement already satisfied: python-dateutil>=2.7 in /usr/local/lib/python3.11/dist-packages (from matplotlib) (2.9.0.post0)\n",
            "Requirement already satisfied: ipykernel>=4.5.1 in /usr/local/lib/python3.11/dist-packages (from ipywidgets) (6.17.1)\n",
            "Requirement already satisfied: ipython-genutils~=0.2.0 in /usr/local/lib/python3.11/dist-packages (from ipywidgets) (0.2.0)\n",
            "Requirement already satisfied: traitlets>=4.3.1 in /usr/local/lib/python3.11/dist-packages (from ipywidgets) (5.7.1)\n",
            "Requirement already satisfied: widgetsnbextension~=3.6.0 in /usr/local/lib/python3.11/dist-packages (from ipywidgets) (3.6.10)\n",
            "Requirement already satisfied: ipython>=4.0.0 in /usr/local/lib/python3.11/dist-packages (from ipywidgets) (7.34.0)\n",
            "Requirement already satisfied: jupyterlab-widgets>=1.0.0 in /usr/local/lib/python3.11/dist-packages (from ipywidgets) (3.0.15)\n",
            "Requirement already satisfied: charset-normalizer in /usr/local/lib/python3.11/dist-packages (from reportlab) (3.4.2)\n",
            "Requirement already satisfied: debugpy>=1.0 in /usr/local/lib/python3.11/dist-packages (from ipykernel>=4.5.1->ipywidgets) (1.8.15)\n",
            "Requirement already satisfied: jupyter-client>=6.1.12 in /usr/local/lib/python3.11/dist-packages (from ipykernel>=4.5.1->ipywidgets) (6.1.12)\n",
            "Requirement already satisfied: matplotlib-inline>=0.1 in /usr/local/lib/python3.11/dist-packages (from ipykernel>=4.5.1->ipywidgets) (0.1.7)\n",
            "Requirement already satisfied: nest-asyncio in /usr/local/lib/python3.11/dist-packages (from ipykernel>=4.5.1->ipywidgets) (1.6.0)\n",
            "Requirement already satisfied: psutil in /usr/local/lib/python3.11/dist-packages (from ipykernel>=4.5.1->ipywidgets) (5.9.5)\n",
            "Requirement already satisfied: pyzmq>=17 in /usr/local/lib/python3.11/dist-packages (from ipykernel>=4.5.1->ipywidgets) (24.0.1)\n",
            "Requirement already satisfied: tornado>=6.1 in /usr/local/lib/python3.11/dist-packages (from ipykernel>=4.5.1->ipywidgets) (6.4.2)\n",
            "Collecting jedi>=0.16 (from ipython>=4.0.0->ipywidgets)\n",
            "  Downloading jedi-0.19.2-py2.py3-none-any.whl.metadata (22 kB)\n",
            "Requirement already satisfied: decorator in /usr/local/lib/python3.11/dist-packages (from ipython>=4.0.0->ipywidgets) (4.4.2)\n",
            "Requirement already satisfied: pickleshare in /usr/local/lib/python3.11/dist-packages (from ipython>=4.0.0->ipywidgets) (0.7.5)\n",
            "Requirement already satisfied: prompt-toolkit!=3.0.0,!=3.0.1,<3.1.0,>=2.0.0 in /usr/local/lib/python3.11/dist-packages (from ipython>=4.0.0->ipywidgets) (3.0.51)\n",
            "Requirement already satisfied: pygments in /usr/local/lib/python3.11/dist-packages (from ipython>=4.0.0->ipywidgets) (2.19.2)\n",
            "Requirement already satisfied: backcall in /usr/local/lib/python3.11/dist-packages (from ipython>=4.0.0->ipywidgets) (0.2.0)\n",
            "Requirement already satisfied: pexpect>4.3 in /usr/local/lib/python3.11/dist-packages (from ipython>=4.0.0->ipywidgets) (4.9.0)\n",
            "Requirement already satisfied: six>=1.5 in /usr/local/lib/python3.11/dist-packages (from python-dateutil>=2.7->matplotlib) (1.17.0)\n",
            "Requirement already satisfied: notebook>=4.4.1 in /usr/local/lib/python3.11/dist-packages (from widgetsnbextension~=3.6.0->ipywidgets) (6.5.7)\n",
            "Requirement already satisfied: parso<0.9.0,>=0.8.4 in /usr/local/lib/python3.11/dist-packages (from jedi>=0.16->ipython>=4.0.0->ipywidgets) (0.8.4)\n",
            "Requirement already satisfied: jupyter-core>=4.6.0 in /usr/local/lib/python3.11/dist-packages (from jupyter-client>=6.1.12->ipykernel>=4.5.1->ipywidgets) (5.8.1)\n",
            "Requirement already satisfied: jinja2 in /usr/local/lib/python3.11/dist-packages (from notebook>=4.4.1->widgetsnbextension~=3.6.0->ipywidgets) (3.1.6)\n",
            "Requirement already satisfied: argon2-cffi in /usr/local/lib/python3.11/dist-packages (from notebook>=4.4.1->widgetsnbextension~=3.6.0->ipywidgets) (25.1.0)\n",
            "Requirement already satisfied: nbformat in /usr/local/lib/python3.11/dist-packages (from notebook>=4.4.1->widgetsnbextension~=3.6.0->ipywidgets) (5.10.4)\n",
            "Requirement already satisfied: nbconvert>=5 in /usr/local/lib/python3.11/dist-packages (from notebook>=4.4.1->widgetsnbextension~=3.6.0->ipywidgets) (7.16.6)\n",
            "Requirement already satisfied: Send2Trash>=1.8.0 in /usr/local/lib/python3.11/dist-packages (from notebook>=4.4.1->widgetsnbextension~=3.6.0->ipywidgets) (1.8.3)\n",
            "Requirement already satisfied: terminado>=0.8.3 in /usr/local/lib/python3.11/dist-packages (from notebook>=4.4.1->widgetsnbextension~=3.6.0->ipywidgets) (0.18.1)\n",
            "Requirement already satisfied: prometheus-client in /usr/local/lib/python3.11/dist-packages (from notebook>=4.4.1->widgetsnbextension~=3.6.0->ipywidgets) (0.22.1)\n",
            "Requirement already satisfied: nbclassic>=0.4.7 in /usr/local/lib/python3.11/dist-packages (from notebook>=4.4.1->widgetsnbextension~=3.6.0->ipywidgets) (1.3.1)\n",
            "Requirement already satisfied: ptyprocess>=0.5 in /usr/local/lib/python3.11/dist-packages (from pexpect>4.3->ipython>=4.0.0->ipywidgets) (0.7.0)\n",
            "Requirement already satisfied: wcwidth in /usr/local/lib/python3.11/dist-packages (from prompt-toolkit!=3.0.0,!=3.0.1,<3.1.0,>=2.0.0->ipython>=4.0.0->ipywidgets) (0.2.13)\n",
            "Requirement already satisfied: platformdirs>=2.5 in /usr/local/lib/python3.11/dist-packages (from jupyter-core>=4.6.0->jupyter-client>=6.1.12->ipykernel>=4.5.1->ipywidgets) (4.3.8)\n",
            "Requirement already satisfied: notebook-shim>=0.2.3 in /usr/local/lib/python3.11/dist-packages (from nbclassic>=0.4.7->notebook>=4.4.1->widgetsnbextension~=3.6.0->ipywidgets) (0.2.4)\n",
            "Requirement already satisfied: beautifulsoup4 in /usr/local/lib/python3.11/dist-packages (from nbconvert>=5->notebook>=4.4.1->widgetsnbextension~=3.6.0->ipywidgets) (4.13.4)\n",
            "Requirement already satisfied: bleach!=5.0.0 in /usr/local/lib/python3.11/dist-packages (from bleach[css]!=5.0.0->nbconvert>=5->notebook>=4.4.1->widgetsnbextension~=3.6.0->ipywidgets) (6.2.0)\n",
            "Requirement already satisfied: defusedxml in /usr/local/lib/python3.11/dist-packages (from nbconvert>=5->notebook>=4.4.1->widgetsnbextension~=3.6.0->ipywidgets) (0.7.1)\n",
            "Requirement already satisfied: jupyterlab-pygments in /usr/local/lib/python3.11/dist-packages (from nbconvert>=5->notebook>=4.4.1->widgetsnbextension~=3.6.0->ipywidgets) (0.3.0)\n",
            "Requirement already satisfied: markupsafe>=2.0 in /usr/local/lib/python3.11/dist-packages (from nbconvert>=5->notebook>=4.4.1->widgetsnbextension~=3.6.0->ipywidgets) (3.0.2)\n",
            "Requirement already satisfied: mistune<4,>=2.0.3 in /usr/local/lib/python3.11/dist-packages (from nbconvert>=5->notebook>=4.4.1->widgetsnbextension~=3.6.0->ipywidgets) (3.1.3)\n",
            "Requirement already satisfied: nbclient>=0.5.0 in /usr/local/lib/python3.11/dist-packages (from nbconvert>=5->notebook>=4.4.1->widgetsnbextension~=3.6.0->ipywidgets) (0.10.2)\n",
            "Requirement already satisfied: pandocfilters>=1.4.1 in /usr/local/lib/python3.11/dist-packages (from nbconvert>=5->notebook>=4.4.1->widgetsnbextension~=3.6.0->ipywidgets) (1.5.1)\n",
            "Requirement already satisfied: fastjsonschema>=2.15 in /usr/local/lib/python3.11/dist-packages (from nbformat->notebook>=4.4.1->widgetsnbextension~=3.6.0->ipywidgets) (2.21.1)\n",
            "Requirement already satisfied: jsonschema>=2.6 in /usr/local/lib/python3.11/dist-packages (from nbformat->notebook>=4.4.1->widgetsnbextension~=3.6.0->ipywidgets) (4.25.0)\n",
            "Requirement already satisfied: argon2-cffi-bindings in /usr/local/lib/python3.11/dist-packages (from argon2-cffi->notebook>=4.4.1->widgetsnbextension~=3.6.0->ipywidgets) (21.2.0)\n",
            "Requirement already satisfied: webencodings in /usr/local/lib/python3.11/dist-packages (from bleach!=5.0.0->bleach[css]!=5.0.0->nbconvert>=5->notebook>=4.4.1->widgetsnbextension~=3.6.0->ipywidgets) (0.5.1)\n",
            "Requirement already satisfied: tinycss2<1.5,>=1.1.0 in /usr/local/lib/python3.11/dist-packages (from bleach[css]!=5.0.0->nbconvert>=5->notebook>=4.4.1->widgetsnbextension~=3.6.0->ipywidgets) (1.4.0)\n",
            "Requirement already satisfied: attrs>=22.2.0 in /usr/local/lib/python3.11/dist-packages (from jsonschema>=2.6->nbformat->notebook>=4.4.1->widgetsnbextension~=3.6.0->ipywidgets) (25.3.0)\n",
            "Requirement already satisfied: jsonschema-specifications>=2023.03.6 in /usr/local/lib/python3.11/dist-packages (from jsonschema>=2.6->nbformat->notebook>=4.4.1->widgetsnbextension~=3.6.0->ipywidgets) (2025.4.1)\n",
            "Requirement already satisfied: referencing>=0.28.4 in /usr/local/lib/python3.11/dist-packages (from jsonschema>=2.6->nbformat->notebook>=4.4.1->widgetsnbextension~=3.6.0->ipywidgets) (0.36.2)\n",
            "Requirement already satisfied: rpds-py>=0.7.1 in /usr/local/lib/python3.11/dist-packages (from jsonschema>=2.6->nbformat->notebook>=4.4.1->widgetsnbextension~=3.6.0->ipywidgets) (0.26.0)\n",
            "Requirement already satisfied: jupyter-server<3,>=1.8 in /usr/local/lib/python3.11/dist-packages (from notebook-shim>=0.2.3->nbclassic>=0.4.7->notebook>=4.4.1->widgetsnbextension~=3.6.0->ipywidgets) (1.16.0)\n",
            "Requirement already satisfied: cffi>=1.0.1 in /usr/local/lib/python3.11/dist-packages (from argon2-cffi-bindings->argon2-cffi->notebook>=4.4.1->widgetsnbextension~=3.6.0->ipywidgets) (1.17.1)\n",
            "Requirement already satisfied: soupsieve>1.2 in /usr/local/lib/python3.11/dist-packages (from beautifulsoup4->nbconvert>=5->notebook>=4.4.1->widgetsnbextension~=3.6.0->ipywidgets) (2.7)\n",
            "Requirement already satisfied: typing-extensions>=4.0.0 in /usr/local/lib/python3.11/dist-packages (from beautifulsoup4->nbconvert>=5->notebook>=4.4.1->widgetsnbextension~=3.6.0->ipywidgets) (4.14.1)\n",
            "Requirement already satisfied: pycparser in /usr/local/lib/python3.11/dist-packages (from cffi>=1.0.1->argon2-cffi-bindings->argon2-cffi->notebook>=4.4.1->widgetsnbextension~=3.6.0->ipywidgets) (2.22)\n",
            "Requirement already satisfied: anyio>=3.1.0 in /usr/local/lib/python3.11/dist-packages (from jupyter-server<3,>=1.8->notebook-shim>=0.2.3->nbclassic>=0.4.7->notebook>=4.4.1->widgetsnbextension~=3.6.0->ipywidgets) (4.9.0)\n",
            "Requirement already satisfied: websocket-client in /usr/local/lib/python3.11/dist-packages (from jupyter-server<3,>=1.8->notebook-shim>=0.2.3->nbclassic>=0.4.7->notebook>=4.4.1->widgetsnbextension~=3.6.0->ipywidgets) (1.8.0)\n",
            "Requirement already satisfied: idna>=2.8 in /usr/local/lib/python3.11/dist-packages (from anyio>=3.1.0->jupyter-server<3,>=1.8->notebook-shim>=0.2.3->nbclassic>=0.4.7->notebook>=4.4.1->widgetsnbextension~=3.6.0->ipywidgets) (3.10)\n",
            "Requirement already satisfied: sniffio>=1.1 in /usr/local/lib/python3.11/dist-packages (from anyio>=3.1.0->jupyter-server<3,>=1.8->notebook-shim>=0.2.3->nbclassic>=0.4.7->notebook>=4.4.1->widgetsnbextension~=3.6.0->ipywidgets) (1.3.1)\n",
            "Downloading pyscf-2.9.0-py3-none-manylinux_2_17_x86_64.manylinux2014_x86_64.whl (50.9 MB)\n",
            "\u001b[2K   \u001b[90m━━━━━━━━━━━━━━━━━━━━━━━━━━━━━━━━━━━━━━━━\u001b[0m \u001b[32m50.9/50.9 MB\u001b[0m \u001b[31m19.7 MB/s\u001b[0m eta \u001b[36m0:00:00\u001b[0m\n",
            "\u001b[?25hDownloading ase-3.25.0-py3-none-any.whl (3.0 MB)\n",
            "\u001b[2K   \u001b[90m━━━━━━━━━━━━━━━━━━━━━━━━━━━━━━━━━━━━━━━━\u001b[0m \u001b[32m3.0/3.0 MB\u001b[0m \u001b[31m102.5 MB/s\u001b[0m eta \u001b[36m0:00:00\u001b[0m\n",
            "\u001b[?25hDownloading rdkit-2025.3.3-cp311-cp311-manylinux_2_28_x86_64.whl (34.9 MB)\n",
            "\u001b[2K   \u001b[90m━━━━━━━━━━━━━━━━━━━━━━━━━━━━━━━━━━━━━━━━\u001b[0m \u001b[32m34.9/34.9 MB\u001b[0m \u001b[31m19.3 MB/s\u001b[0m eta \u001b[36m0:00:00\u001b[0m\n",
            "\u001b[?25hDownloading reportlab-4.4.2-py3-none-any.whl (2.0 MB)\n",
            "\u001b[2K   \u001b[90m━━━━━━━━━━━━━━━━━━━━━━━━━━━━━━━━━━━━━━━━\u001b[0m \u001b[32m2.0/2.0 MB\u001b[0m \u001b[31m94.4 MB/s\u001b[0m eta \u001b[36m0:00:00\u001b[0m\n",
            "\u001b[?25hDownloading jedi-0.19.2-py2.py3-none-any.whl (1.6 MB)\n",
            "\u001b[2K   \u001b[90m━━━━━━━━━━━━━━━━━━━━━━━━━━━━━━━━━━━━━━━━\u001b[0m \u001b[32m1.6/1.6 MB\u001b[0m \u001b[31m87.7 MB/s\u001b[0m eta \u001b[36m0:00:00\u001b[0m\n",
            "\u001b[?25hBuilding wheels for collected packages: pubchempy\n",
            "  Building wheel for pubchempy (setup.py) ... \u001b[?25l\u001b[?25hdone\n",
            "  Created wheel for pubchempy: filename=PubChemPy-1.0.4-py3-none-any.whl size=13818 sha256=ec68b71e569689d8c658a9c49d6f11420505c22a9640b6d9e731607907a54326\n",
            "  Stored in directory: /root/.cache/pip/wheels/8b/e3/6c/3385b2db08b0985a87f5b117f98d0cb61a3ae3ca3bcbbd8307\n",
            "Successfully built pubchempy\n",
            "Installing collected packages: pubchempy, reportlab, rdkit, jedi, pyscf, ase\n",
            "Successfully installed ase-3.25.0 jedi-0.19.2 pubchempy-1.0.4 pyscf-2.9.0 rdkit-2025.3.3 reportlab-4.4.2\n"
          ]
        }
      ],
      "source": [
        "#@title Install necessary libraries\n",
        "!pip install pyscf ase matplotlib numpy ipywidgets pubchempy rdkit reportlab"
      ]
    },
    {
      "cell_type": "markdown",
      "source": [
        "# Density Functional Theory (DFT) Analysis\n",
        "\n",
        "Density Functional Theory (DFT) is a computational quantum mechanical modeling method used to investigate the electronic structure of many-body systems, especially atoms, molecules, and the condensed phases. DFT is among the most popular and versatile methods available in condensed-matter physics, computational physics, and computational chemistry."
      ],
      "metadata": {
        "id": "zXadvhMdfxew"
      }
    },
    {
      "cell_type": "markdown",
      "source": [
        "## Basic Concepts of DFT\n",
        "\n",
        "1. **Hohenberg-Kohn Theorems**:\n",
        "   - The ground state properties of a many-electron system are uniquely determined by the electron density.\n",
        "   - The electron density that minimizes the total energy is the true ground state electron density.\n",
        "\n",
        "2. **Kohn-Sham Equations**:\n",
        "   - The Kohn-Sham equations are a set of self-consistent equations that allow us to find the electron density of a system.\n",
        "\n",
        "3. **Exchange-Correlation Functionals**:\n",
        "   - The exchange-correlation functional accounts for the non-classical part of the electron-electron interaction."
      ],
      "metadata": {
        "id": "c2RUS8L2f0nb"
      }
    },
    {
      "cell_type": "code",
      "source": [
        "#@title Now, let's set up a simple DFT calculation using _PySCF_\n",
        "from pyscf import gto, dft\n",
        "\n",
        "# Define a molecule (e.g., water)\n",
        "mol = gto.Mole()\n",
        "mol.atom = '''\n",
        "C     0.69727     0.00296    -0.55402\n",
        "N     1.35338    -0.11097    -1.79698\n",
        "H     1.65288     0.67811    -2.38177\n",
        "O     1.60934    -1.37740    -2.16341\n",
        "C     1.06468    -2.08074    -1.11486\n",
        "C     0.48264    -1.22613    -0.10551\n",
        "C    -0.16458    -1.69527     1.09646\n",
        "N    -0.68460    -2.06575     2.06184\n",
        "C     0.40621     1.30848     0.07385\n",
        "C     0.61852     2.49656    -0.64674\n",
        "C     0.46175     3.73020    -0.03105\n",
        "C     0.10878     3.81024     1.32671\n",
        "C    -0.15106     2.61856     2.02554\n",
        "C    -0.01211     1.38947     1.40273\n",
        "N     0.04034     5.07730     1.98885\n",
        "C     0.28683     6.30473     1.26145\n",
        "C    -0.19346     5.15275     3.41570\n",
        "N     1.11713    -3.50185    -1.04575\n",
        "H     0.70130    -3.99763    -0.22748\n",
        "H     1.58309    -3.99130    -1.83786\n",
        "H     0.92338     2.49411    -1.68205\n",
        "H     0.64729     4.62119    -0.61448\n",
        "H    -0.44215     2.62622     3.06507\n",
        "H    -0.19388     0.51392     1.98751\n",
        "H     0.19832     7.18850     1.91978\n",
        "H    -0.44819     6.40661     0.43937\n",
        "H     1.31780     6.28511     0.85144\n",
        "H    -0.21016     6.20159     3.76564\n",
        "H     0.62932     4.62712     3.94477\n",
        "H    -1.16573     4.68821     3.66567\n",
        "'''\n",
        "mol.charge = 0\n",
        "mol.spin = 1  # doublet, since there are 121 electrons\n",
        "mol.basis = 'sto-3g'\n",
        "mol.unit = 'Angstrom'\n",
        "mol.build()\n",
        "mol.basis = 'sto-3g'\n",
        "mol.build()\n",
        "\n",
        "# Perform DFT calculation\n",
        "mf = dft.RKS(mol)\n",
        "mf.xc = 'b3lyp'  # Use B3LYP functional\n",
        "mf.kernel()\n",
        "\n",
        "# Print the total energy\n",
        "print(\"Total Energy (B3LYP):\", mf.e_tot)"
      ],
      "metadata": {
        "id": "P9Ln-daVf6xh",
        "outputId": "8db6f162-c99f-40dd-bf24-e3b41d7dd75f",
        "colab": {
          "base_uri": "https://localhost:8080/"
        }
      },
      "execution_count": 3,
      "outputs": [
        {
          "output_type": "stream",
          "name": "stderr",
          "text": [
            "/usr/local/lib/python3.11/dist-packages/pyscf/dft/libxc.py:512: UserWarning: Since PySCF-2.3, B3LYP (and B3P86) are changed to the VWN-RPA variant, corresponding to the original definition by Stephens et al. (issue 1480) and the same as the B3LYP functional in Gaussian. To restore the VWN5 definition, you can put the setting \"B3LYP_WITH_VWN5 = True\" in pyscf_conf.py\n",
            "  warnings.warn('Since PySCF-2.3, B3LYP (and B3P86) are changed to the VWN-RPA variant, '\n"
          ]
        },
        {
          "output_type": "stream",
          "name": "stdout",
          "text": [
            "converged SCF energy = -749.549521402043\n",
            "Total Energy (B3LYP): -749.5495214020434\n"
          ]
        }
      ]
    },
    {
      "cell_type": "code",
      "source": [
        "#@title Visualize the molecular orbitals using _PySCF_ and _matplotlib_\n",
        "import matplotlib.pyplot as plt\n",
        "import numpy as np\n",
        "\n",
        "# Plot the HOMO (Highest Occupied Molecular Orbital)\n",
        "homo_index = mol.nelectron // 2 - 1  # Index of the HOMO\n",
        "homo = mf.mo_coeff[:, homo_index]\n",
        "\n",
        "# Generate a grid for visualization\n",
        "from pyscf import tools\n",
        "tools.cubegen.orbital(mol, 'homo.cube', homo)\n",
        "\n",
        "# Load and plot the cube file\n",
        "from ase.io.cube import read_cube_data\n",
        "data, atoms = read_cube_data('homo.cube')\n",
        "\n",
        "# Plot the HOMO\n",
        "plt.imshow(data[:, :, data.shape[2]//2], cmap='RdBu')\n",
        "plt.colorbar()\n",
        "plt.title('HOMO of 4a Molecule')\n",
        "plt.show()"
      ],
      "metadata": {
        "id": "ptiUyVWdf-27",
        "outputId": "4bf25831-bac7-4ed2-b54f-71843f3d9bc6",
        "colab": {
          "base_uri": "https://localhost:8080/",
          "height": 452
        }
      },
      "execution_count": 4,
      "outputs": [
        {
          "output_type": "display_data",
          "data": {
            "text/plain": [
              "<Figure size 640x480 with 2 Axes>"
            ],
            "image/png": "[encoded data removed]"
          },
          "metadata": {}
        }
      ]
    },
    {
      "cell_type": "code",
      "source": [
        "from rdkit import Chem\n",
        "from rdkit.Chem import AllChem\n",
        "from pyscf import gto, dft\n",
        "from pyscf.tools import cubegen\n",
        "import matplotlib.pyplot as plt\n",
        "from ase.io.cube import read_cube_data\n",
        "import os\n",
        "\n",
        "# --- Step 1: Define the SMILES of your custom molecule (4a) ---\n",
        "smiles = 'CN(C)c1ccc(cc1)c1noc(N)c1C#N'\n",
        "\n",
        "# --- Step 2: Generate 3D structure using RDKit ---\n",
        "mol = Chem.MolFromSmiles(smiles)\n",
        "mol = Chem.AddHs(mol)  # Add hydrogens\n",
        "AllChem.EmbedMolecule(mol)  # Generate 3D coordinates\n",
        "AllChem.MMFFOptimizeMolecule(mol)  # Geometry optimization\n",
        "\n",
        "# Extract atoms and 3D coordinates\n",
        "conf = mol.GetConformer()\n",
        "atoms = [mol.GetAtomWithIdx(i).GetSymbol() for i in range(mol.GetNumAtoms())]\n",
        "coords = [conf.GetAtomPosition(i) for i in range(mol.GetNumAtoms())]\n",
        "\n",
        "# --- Step 3: Build molecule in PySCF ---\n",
        "mol_pyscf = gto.Mole()\n",
        "mol_pyscf.atom = [[atom, (coord.x, coord.y, coord.z)] for atom, coord in zip(atoms, coords)]\n",
        "mol_pyscf.unit = 'Angstrom'\n",
        "mol_pyscf.basis = 'sto-3g'\n",
        "mol_pyscf.charge = 0\n",
        "mol_pyscf.spin = 0  # Singlet → even number of electrons (120)\n",
        "mol_pyscf.build()\n",
        "\n",
        "# --- Step 4: Perform DFT calculation using RKS (for singlet) ---\n",
        "mf = dft.RKS(mol_pyscf)\n",
        "mf.xc = 'b3lyp'\n",
        "mf.kernel()\n",
        "\n",
        "# --- Step 5: Display total energy ---\n",
        "print(f\"Total Energy (B3LYP): {mf.e_tot:.6f} Hartree\")\n",
        "\n",
        "# --- Step 6: Generate cube file for HOMO ---\n",
        "homo_index = mol_pyscf.nelectron // 2 - 1\n",
        "cubegen.orbital(mol_pyscf, 'homo.cube', mf.mo_coeff[:, homo_index])\n",
        "\n",
        "# --- Step 7: Visualize HOMO orbital as 2D slice ---\n",
        "homo_data, _ = read_cube_data('homo.cube')\n",
        "plt.figure(figsize=(6, 6))\n",
        "plt.imshow(homo_data[:, :, homo_data.shape[2] // 2], cmap='RdBu', origin='lower')\n",
        "plt.colorbar(label='Electron Density')\n",
        "plt.title('HOMO of Compound 4a')\n",
        "plt.tight_layout()\n",
        "plt.show()\n",
        "\n",
        "# Optional: Clean up cube file\n",
        "os.remove('homo.cube')"
      ],
      "metadata": {
        "id": "mISUIRPwqDcc",
        "outputId": "03bad3f9-3247-4e4b-c7e8-b8b6466cd42c",
        "colab": {
          "base_uri": "https://localhost:8080/",
          "height": 650
        }
      },
      "execution_count": 6,
      "outputs": [
        {
          "output_type": "stream",
          "name": "stdout",
          "text": [
            "converged SCF energy = -749.058653082964\n",
            "Total Energy (B3LYP): -749.058653 Hartree\n"
          ]
        },
        {
          "output_type": "display_data",
          "data": {
            "text/plain": [
              "<Figure size 600x600 with 2 Axes>"
            ],
            "image/png": "[encoded data removed]"
          },
          "metadata": {}
        }
      ]
    },
    {
      "cell_type": "markdown",
      "source": [
        "**Warning**: Below code generates a kind of prelimary resut report. However, this code is in testing phase, and I personally did not test it on different compounds, therefore, I strongly suggest to please consult an expert, in case you want to publish it."
      ],
      "metadata": {
        "id": "QuOhezD2vh-W"
      }
    },
    {
      "cell_type": "code",
      "source": [
        "import numpy as np\n",
        "\n",
        "# Get the orbital energies (in Hartree)\n",
        "orbital_energies = mf.mo_energy\n",
        "\n",
        "# HOMO and LUMO indices for closed-shell\n",
        "homo_index = mol_pyscf.nelectron // 2 - 1\n",
        "lumo_index = homo_index + 1\n",
        "\n",
        "# Convert Hartree to eV (1 Hartree = 27.2114 eV)\n",
        "hartree_to_ev = 27.2114\n",
        "homo_energy = orbital_energies[homo_index] * hartree_to_ev\n",
        "lumo_energy = orbital_energies[lumo_index] * hartree_to_ev\n",
        "gap = lumo_energy - homo_energy\n",
        "\n",
        "# Print results\n",
        "print(f\"HOMO Energy: {homo_energy:.4f} eV\")\n",
        "print(f\"LUMO Energy: {lumo_energy:.4f} eV\")\n",
        "print(f\"HOMO-LUMO Gap: {gap:.4f} eV\")\n"
      ],
      "metadata": {
        "id": "RFNXx0uSw-2R",
        "outputId": "b4c0ad89-66b8-47a3-bf25-ba5f52aa0328",
        "colab": {
          "base_uri": "https://localhost:8080/"
        }
      },
      "execution_count": 7,
      "outputs": [
        {
          "output_type": "stream",
          "name": "stdout",
          "text": [
            "HOMO Energy: -3.2708 eV\n",
            "LUMO Energy: 1.9181 eV\n",
            "HOMO-LUMO Gap: 5.1889 eV\n"
          ]
        }
      ]
    },
    {
      "cell_type": "markdown",
      "source": [
        "## Analysis and Discussion of Results\n",
        "\n",
        "Let's discuss these results, such as the total energy, molecular orbitals, and electron density\n",
        "\n",
        "- **Total Energy**: The total energy of the system is calculated using the B3LYP functional.\n",
        "- **Molecular Orbitals**: The HOMO (Highest Occupied Molecular Orbital) is visualized, showing the electron density distribution.\n",
        "- **Electron Density**: The electron density can be analyzed to understand the chemical bonding and reactivity of the molecule."
      ],
      "metadata": {
        "id": "DCZ-yuLDgCsK"
      }
    },
    {
      "cell_type": "markdown",
      "source": [
        "# Interpreting the HOMO (Highest Occupied Molecular Orbital) Figure\n",
        "\n",
        "The **HOMO (Highest Occupied Molecular Orbital)** figure visualizes the electron density distribution in the highest energy orbital that is occupied by electrons in a molecule. This orbital is significant because it plays a key role in chemical reactions, particularly in processes like **electron donation** (e.g., in redox reactions) and **bond formation**.\n",
        "\n",
        "---\n",
        "\n",
        "## What Does the HOMO Represent?\n",
        "- The HOMO represents the **most loosely bound electrons** in the molecule.\n",
        "- These electrons are the most likely to participate in chemical reactions, such as forming bonds with other molecules or donating electrons.\n",
        "- The shape and distribution of the HOMO provide insights into the **reactivity** and **electronic properties** of the molecule.\n",
        "\n",
        "---\n",
        "\n",
        "## Key Features to Look For in the HOMO Figure\n",
        "\n",
        "### 1. **Electron Density Distribution**\n",
        "- The **bright regions** (often colored red or blue in the plot) represent areas of high electron density.\n",
        "- The **dim regions** (often white or transparent) represent areas of low or no electron density.\n",
        "- The electron density is typically concentrated around **atoms** or **bonds** where the electrons are most likely to be found.\n",
        "\n",
        "### 2. **Symmetry and Shape**\n",
        "- The HOMO often reflects the **symmetry** of the molecule. For example, in a symmetric molecule like benzene, the HOMO will have a symmetric distribution of electron density.\n",
        "- The shape of the HOMO can be **bonding**, **antibonding**, or **non-bonding**:\n",
        "  - **Bonding orbitals**: Electron density is concentrated between atoms, indicating stabilizing interactions.\n",
        "  - **Antibonding orbitals**: Electron density is concentrated outside the bond region, indicating destabilizing interactions.\n",
        "  - **Non-bonding orbitals**: Electron density is localized on a single atom (e.g., lone pairs).\n",
        "\n",
        "### 3. **Localization vs. Delocalization**\n",
        "- If the electron density is **localized** on a specific atom or bond, it suggests that the HOMO is associated with a particular functional group or region of the molecule.\n",
        "- If the electron density is **delocalized** over multiple atoms or bonds, it indicates that the electrons are shared across a larger region of the molecule (e.g., in conjugated systems like benzene or polyenes).\n",
        "\n",
        "---\n",
        "\n",
        "## Interpreting the HOMO for Chemical Reactivity\n",
        "- **Nucleophilic Sites**: Regions with high electron density in the HOMO are potential sites for **nucleophilic attack** (donating electrons).\n",
        "- **Electron Donation**: The HOMO is the orbital from which electrons are most easily donated in a reaction.\n",
        "- **Reactivity Trends**: Molecules with **higher energy HOMOs** are generally more reactive because their electrons are less tightly bound.\n",
        "\n",
        "---\n",
        "\n",
        "## Example: HOMO of Water (H₂O)\n",
        "Let’s take the example of water (H₂O), which we used in the DFT calculation earlier.\n",
        "\n",
        "### **HOMO Characteristics for Water**:\n",
        "- The HOMO of water is primarily localized on the **oxygen atom**, representing the **lone pairs** of electrons.\n",
        "- The electron density is concentrated around the oxygen, with little to no density on the hydrogen atoms.\n",
        "- This indicates that the oxygen atom is the most likely site for **electron donation** (e.g., in hydrogen bonding or nucleophilic reactions).\n",
        "\n",
        "### **Visualization**:\n",
        "- In the HOMO plot, you would see bright regions (high electron density) around the oxygen atom and dim regions around the hydrogens.\n",
        "\n",
        "---\n",
        "\n",
        "## Example: HOMO of Benzene (C₆H₆)\n",
        "For a more complex molecule like benzene:\n",
        "\n",
        "### **HOMO Characteristics for Benzene**:\n",
        "- The HOMO of benzene is **delocalized** over the entire ring, reflecting the **π-electron system**.\n",
        "- The electron density is evenly distributed above and below the plane of the ring.\n",
        "- This delocalization indicates that benzene is highly stable and less reactive compared to molecules with localized HOMOs.\n",
        "\n",
        "### **Visualization**:\n",
        "- In the HOMO plot, you would see a symmetric, donut-shaped electron density distribution above and below the ring.\n",
        "\n",
        "---\n",
        "\n",
        "## How to Use the HOMO in Analysis\n",
        "- **Predict Reactivity**: Identify regions of high electron density to predict where the molecule is likely to react.\n",
        "- **Compare Molecules**: Compare HOMOs of different molecules to understand their relative reactivity or stability.\n",
        "- **Understand Bonding**: Use the HOMO to analyze bonding patterns, such as conjugation or lone pairs.\n",
        "\n",
        "---\n",
        "\n",
        "## Limitations of the HOMO\n",
        "- The HOMO only provides information about the **highest occupied orbital**. For a complete picture of reactivity, you should also consider the **LUMO (Lowest Unoccupied Molecular Orbital)**, which represents the lowest energy orbital that can accept electrons.\n",
        "- The HOMO does not account for **dynamic effects** (e.g., solvent interactions or temperature), which can also influence reactivity.\n",
        "\n",
        "---\n",
        "\n",
        "## Summary\n",
        "- The HOMO figure shows the distribution of the most loosely bound electrons in a molecule.\n",
        "- High electron density regions indicate potential sites for reactivity (e.g., nucleophilic attack).\n",
        "- The shape and symmetry of the HOMO reflect the molecule’s electronic structure and bonding.\n",
        "- By analyzing the HOMO, you can gain insights into the molecule’s chemical behavior and reactivity."
      ],
      "metadata": {
        "id": "S2yP8CnIjgnU"
      }
    },
    {
      "cell_type": "markdown",
      "source": [
        "## Conclusion\n",
        "\n",
        "In this tutorial, we have introduced the basic concepts of Density Functional Theory (DFT) and demonstrated how to perform DFT calculations on a simple molecule using `PySCF`. We also visualized the molecular orbitals and analyzed the results.\n",
        "\n",
        "## DFT Calculations for Vibrational Frequencies and Thermodynamics Properties\n",
        "\n",
        "### Further Reading\n",
        "- [PySCF Documentation](https://pyscf.org/)\n",
        "- [Density Functional Theory: A Practical Introduction by David Sholl and Janice A. Steckel](https://onlinelibrary.wiley.com/doi/book/10.1002/9780470447710)"
      ],
      "metadata": {
        "id": "ng5FD0RggWzQ"
      }
    }
  ]
}